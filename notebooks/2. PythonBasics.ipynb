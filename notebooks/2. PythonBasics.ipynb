{
 "cells": [
  {
   "cell_type": "markdown",
   "metadata": {},
   "source": [
    "# Overview of basic Python features\n",
    "\n",
    "### Indentation\n",
    "\n",
    "Python uses whitespace and indentation to determine block structure.\n",
    "\n",
    "Eg.\n",
    "\n",
    "n = 9\n",
    "r = 1\n",
    "\n",
    "while n > 0:\n",
    "    r = r * n\n",
    "    n = n - 1\n",
    "\n",
    "Benefits:\n",
    "1. Impossible to miss braces\n",
    "2. Uniformity of coding across team\n",
    "3. Visual interpretation of code structure\n",
    "\n",
    "### Comments\n",
    "\n",
    "+ hash (#) is used to comment\n",
    "\n",
    "### Variable assignment\n",
    "\n",
    "+ = is assignment operator\n",
    "+ **NOT STATICALLY TYPED**\n",
    "+ No end of line operator (like ; in C) required\n",
    "\n",
    "### _None_ value\n",
    "\n",
    "+ Represents empty value\n",
    "+ Equivalent to NA in R"
   ]
  },
  {
   "cell_type": "markdown",
   "metadata": {},
   "source": [
    "### Coding conventions in Python\n",
    "\n",
    "![Coding conventions in Python](../img/2python-basics/python-coding-conventions.png)\n",
    "Reference: \"The Quick Python Book, 2nd Edition\" by Naomi Ceder"
   ]
  }
 ],
 "metadata": {
  "kernelspec": {
   "display_name": "Python 3",
   "language": "python",
   "name": "python3"
  },
  "language_info": {
   "codemirror_mode": {
    "name": "ipython",
    "version": 3
   },
   "file_extension": ".py",
   "mimetype": "text/x-python",
   "name": "python",
   "nbconvert_exporter": "python",
   "pygments_lexer": "ipython3",
   "version": "3.4.2"
  }
 },
 "nbformat": 4,
 "nbformat_minor": 0
}
