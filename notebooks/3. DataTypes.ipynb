{
 "cells": [
  {
   "cell_type": "markdown",
   "metadata": {
    "collapsed": true
   },
   "source": [
    "# Python Data Types\n",
    "\n",
    "This notebook introduces the various data types in Python.\n",
    "\n",
    "Overview:\n",
    "\n",
    "1. Numbers\n",
    "2. Lists, Tuples and Sets\n",
    "3. Strings\n",
    "4. Dictionaries\n",
    "5. File Objects\n",
    "\n",
    "---"
   ]
  },
  {
   "cell_type": "markdown",
   "metadata": {},
   "source": [
    "## 1. Numbers\n",
    "\n",
    "Python has four number types:\n",
    "\n",
    "1. Integers\n",
    "2. Floats\n",
    "3. Complex numbers\n",
    "4. Boolean\n",
    "\n",
    "Mathematical operators include:\n",
    "\n",
    "1. \\+ : addition\n",
    "2. \\- : subtraction\n",
    "3. \\* : multiplication\n",
    "4. / : division\n",
    "5. // : quotient after division\n",
    "6. % : remainder after division\n",
    "7. \\*\\* : raised to the power\n",
    "\n",
    "---"
   ]
  },
  {
   "cell_type": "markdown",
   "metadata": {},
   "source": [
    "## 2. Lists, Tuples and Sets\n",
    "\n",
    "### A. Lists\n",
    "\n",
    "+ List is like an Array\n",
    "+ Created using square brackets - [ ]\n",
    "+ A list can contain a mix of different elements (heterogenous) of any data type.\n",
    "+ List indexing\n",
    "    + Positive indices: start from 0 (unlike R, which starts from 1)\n",
    "    + Negative indices: starting with -1 as last element\n",
    "+ Slicing\n",
    "    + Format: list[m:n] (m is inclusive, n is exclusive)\n",
    "        + list[:n] - slices between 0:n-1th item\n",
    "        + list[m:] - slices between m:end of list\n",
    "    \n",
    "###### Indexing and Slicing examples"
   ]
  },
  {
   "cell_type": "code",
   "execution_count": 10,
   "metadata": {
    "collapsed": false
   },
   "outputs": [
    {
     "name": "stdout",
     "output_type": "stream",
     "text": [
      "100\n",
      "101\n",
      "109\n",
      "[100, 101, 102, 103, 104, 105, 106, 107, 108, 109]\n",
      "[100, 101, 102, 103, 104, 105, 106, 107, 108]\n",
      "[102, 103, 104, 105, 106]\n",
      "[100, 101, 102, 103, 104, 105, 106, 107, 108, 109, 1, 2, 3]\n",
      "[-100, -101, 100, 101, 102, 103, 104, 105, 106, 107, 108, 109, 1, 2, 3]\n",
      "[-100, 3]\n"
     ]
    }
   ],
   "source": [
    "## creating a list\n",
    "list1 = [100,101,102,103,104,105,106,107,108,109]\n",
    "list1\n",
    "\n",
    "## indexing\n",
    "print(list1[0])\n",
    "\n",
    "print(list1[1])\n",
    "\n",
    "print(list1[-1])\n",
    "\n",
    "## slicing\n",
    "\n",
    "print(list1[0:])\n",
    "\n",
    "print(list1[0:-1])\n",
    "\n",
    "print(list1[2:-3])\n",
    "\n",
    "## modifying a list\n",
    "\n",
    "# appending at the end of a list\n",
    "\n",
    "list1[len(list1):] = [1,2,3]\n",
    "print(list1)\n",
    "\n",
    "# prefixing at the end of a list\n",
    "list1[:0] = [-100,-101]\n",
    "print(list1)\n",
    "\n",
    "# removing from a list\n",
    "\n",
    "list1[1:-1] = []\n",
    "print(list1)"
   ]
  },
  {
   "cell_type": "markdown",
   "metadata": {},
   "source": [
    "##### List operations\n",
    "\n",
    "+ append() - adds single element or adds a list as an element\n",
    "+ extend() - appends elements of a list to another\n",
    "+ insert() - insert new elements between two elements or at the front of a list\n",
    "+ remove() - looks for the first matching element in a list and removes it\n",
    "    ++ raises exception if element cannot be found\n",
    "+ del() - same as assigning []\n",
    "+ reverse() - reverses the elements of a list\n",
    "+ sort() - in-place sorting (i.e sorts the same list without creating a copy)\n",
    "    + note: sort requires all list elements to be of comparable type\n",
    "\n",
    "##### Other list operations\n",
    "\n",
    "+ in (3 in [1,2,3])\n",
    "+ not in (4 not in [1,2,3]\n",
    "+ concatenation ([1,2] + [3,4])\n",
    "+ initialization ([None] * 4)\n",
    "+ min, max\n",
    "+ index\n",
    "+ count\n",
    "\n",
    "### B. Tuples\n",
    "\n",
    "+ Tuples are like lists but cannot be modified\n",
    "+ Created using round brackets - ( )\n",
    "+ Useful as keys for dictionaries\n",
    "+ One element tuples need the comma to denote them as tuples - (7,)\n",
    "\n",
    "### C. Sets\n",
    "\n",
    "+ Unordered collection of objects\n",
    "+ Used in situations where membership and uniqueness are the only info necessary\n",
    "+ Elements need to be immutable and hashable. This means\n",
    "    ++ ints, floats, strings and tuples can be members of a set\n",
    "    ++ lists, dictionaries, sets cannot be members of a set\n",
    "        ++ caveat: frozenset\n",
    "\n",
    "---"
   ]
  },
  {
   "cell_type": "markdown",
   "metadata": {},
   "source": [
    "## 3. Strings\n",
    "\n",
    "+ Double or single quotes enclosure (like C)\n",
    "+ Backslashes for special characters\n",
    "    ++ \\n\n",
    "    ++ \\t\n",
    "    ++ \\\\\n",
    "    ++ \\\"\n",
    "+ Can't split a string declaration across several lines\n",
    "+ Triple quotes (\"\"\" or ''') allows \n",
    "    ++ to declare strings without \\\" and \\'\n",
    "    ++ allows splitting a string declaration across several lines"
   ]
  }
 ],
 "metadata": {
  "kernelspec": {
   "display_name": "Python 3",
   "language": "python",
   "name": "python3"
  },
  "language_info": {
   "codemirror_mode": {
    "name": "ipython",
    "version": 3
   },
   "file_extension": ".py",
   "mimetype": "text/x-python",
   "name": "python",
   "nbconvert_exporter": "python",
   "pygments_lexer": "ipython3",
   "version": "3.4.2"
  }
 },
 "nbformat": 4,
 "nbformat_minor": 0
}
