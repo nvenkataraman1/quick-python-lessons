{
 "cells": [
  {
   "cell_type": "markdown",
   "metadata": {},
   "source": [
    "# An Introduction to IPython\n",
    "\n",
    "### Few Key Features of IPython include\n",
    "\n",
    "    1. Tab completion\n",
    "    2. Object introspection\n",
    "        + Append a ? before or after an object/function/instance method\n",
    "        + ?? will show a function's source code (if available)\n",
    "        + ? will also search Python namespace\n",
    "    3. %run file.py - run a python program inside iPython environment\n",
    "    4. Executing code from Clipboard\n",
    "    5. Matplotlib integration\n",
    "    6. Searching and logging command history\n",
    "    7. Interacting with Operating System using Shell commands\n",
    "    8. Software development tools\n",
    "    9. Support for Code and Markdown within a single document\n",
    "\n",
    "### Keyboard Shortcuts in IPython\n",
    "\n",
    "##### Edit Mode Shortcuts\n",
    "\n",
    "![edit mode shortcuts](./img/ipythoneditshortcuts.png)\n",
    "\n",
    "##### Command Mode Shortcuts\n",
    "\n",
    "![command mode shortcuts](./img/ipythoncommandshortcuts.png)\n",
    "\n",
    "##### How to Make Custom Keyboard Shortcuts in IPython\n",
    "\n",
    "http://nbviewer.ipython.org/github/ipython/ipython-in-depth/blob/master/examples/Notebook/Custom%20Keyboard%20Shortcuts.ipynb\n",
    "\n",
    "\n",
    "### Magic Commands in IPython\n",
    "\n",
    "Magic commands can be viewed as command line programs to be run within the IPython system. Many of them have additional “command line” options. Currently available ```magic``` commands in IPython include the following.\n",
    "\n",
    "![magic commands](./img/ipythonmagic.png)\n",
    "\n",
    "### Using Command History\n",
    "\n",
    "##### Last Run Input and Output Variables\n",
    "\n",
    "+ input typed: _ (single underscore)\n",
    "+ output object returned: __ (double underscore)\n",
    "\n",
    "### Running Shell Commands in IPython\n",
    "\n",
    "IPython can be used to run ```system commands``` used to interact with a computer's operating system. These are listed in the table below.\n",
    "\n",
    "![shell commands](./img/ipythonshell.png)\n",
    "\n",
    "### Software Development Tools\n",
    "\n",
    "##### Timing Code: %time and %timeit\n",
    "\n",
    "**%time**\n",
    "+ returns Wall time (of interest) and CPU time\n",
    "+ results subject to variation\n",
    "\n",
    "**%timeit**\n",
    "+ more precise and reliable as compared to %time reported values\n",
    "+ useful when working with very short execution times (microseconds, nanoseconds)\n",
    "\n"
   ]
  },
  {
   "cell_type": "code",
   "execution_count": null,
   "metadata": {
    "collapsed": true
   },
   "outputs": [],
   "source": []
  }
 ],
 "metadata": {
  "kernelspec": {
   "display_name": "Python 3",
   "language": "python",
   "name": "python3"
  },
  "language_info": {
   "codemirror_mode": {
    "name": "ipython",
    "version": 3
   },
   "file_extension": ".py",
   "mimetype": "text/x-python",
   "name": "python",
   "nbconvert_exporter": "python",
   "pygments_lexer": "ipython3",
   "version": "3.4.2"
  }
 },
 "nbformat": 4,
 "nbformat_minor": 0
}
